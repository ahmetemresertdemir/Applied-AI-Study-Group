{
  "cells": [
    {
      "cell_type": "markdown",
      "metadata": {
        "id": "jHWqkSxq3T-V"
      },
      "source": [
        "# Recommender Systems Homework\n",
        "\n",
        "* This notebook is for recommender systems homework of Applied AI. \\\n",
        "* Used dataset for this homework is [The Movies Dataset](https://www.kaggle.com/rounakbanik/the-movies-dataset/data)\n",
        "\n",
        "## **Dataset Description** \n",
        "\n",
        "This dataset includes 45k movies with their features like the kind of the movie or the crew of movie. Also, ratings of these movies are in this dataset as User-Movie interaction table.\n",
        "\n",
        "**Tables in Dataset:**\n",
        "\n",
        "* movies_metadata : Features belong to movies (~45k)\n",
        "* keywords : Keywords extracted from plot of the movies\n",
        "* credits : Cast and crew information\n",
        "* links : TMDB and IMDB IDs of all movies\n",
        "* ratings : User-Movie interactions\n",
        "\n",
        "## **Task Description**\n",
        "\n",
        "You are supposed to build a **recommendation system** which recommends movies to the user. Input of the system is a movie and the output is recommendation list consisting similar movies to given movie.\n",
        "\n",
        "* This task's approach for recommender systems is **Content Based** Approach.\n",
        "* Similarities between movies can be found by looking at their **common** **cast**.\n",
        "* Another movie features can be added to the system as you wish.\n",
        "\n",
        "\n",
        "## **What will you report?**\n",
        "\n",
        "* There is no limitation or scoring function for this task. \n",
        "* You can look at the distances between similar movies for comparison.\n",
        "* Recommend to yourselves movies with using your system and evaluate yourselves fairly 😀\n",
        "---\n",
        "\n",
        "\n"
      ]
    },
    {
      "cell_type": "markdown",
      "source": [
        "## Preperation"
      ],
      "metadata": {
        "id": "1uQ7SxATio67"
      }
    },
    {
      "cell_type": "markdown",
      "metadata": {
        "id": "j-LtzlfH99rr"
      },
      "source": [
        "* Mount Drive first"
      ]
    },
    {
      "cell_type": "code",
      "execution_count": null,
      "metadata": {
        "colab": {
          "base_uri": "https://localhost:8080/"
        },
        "id": "sw6WJnvCkUG_",
        "outputId": "2cd099d0-51d5-414e-9020-2746d236ab7c"
      },
      "outputs": [
        {
          "output_type": "stream",
          "name": "stdout",
          "text": [
            "Mounted at /content/drive\n"
          ]
        }
      ],
      "source": [
        "from google.colab import drive\n",
        "drive.mount('/content/drive')"
      ]
    },
    {
      "cell_type": "markdown",
      "metadata": {
        "id": "KLj0wUbhlaIc"
      },
      "source": [
        "* Import libraries"
      ]
    },
    {
      "cell_type": "code",
      "execution_count": null,
      "metadata": {
        "id": "u7FZro5nlYxQ"
      },
      "outputs": [],
      "source": [
        "import pandas as pd\n",
        "import numpy as np"
      ]
    },
    {
      "cell_type": "markdown",
      "metadata": {
        "id": "Wcb5qjTRmLrc"
      },
      "source": [
        "* Read the _credits_ file"
      ]
    },
    {
      "cell_type": "code",
      "execution_count": null,
      "metadata": {
        "id": "hnIfuRrz8EAF"
      },
      "outputs": [],
      "source": [
        "credits = pd.read_csv('/content/drive/MyDrive/applied_ai_enes_safak/recommender_systems/MovieLens/credits.csv', low_memory=False)"
      ]
    },
    {
      "cell_type": "markdown",
      "source": [
        "## Extracting Cast Names Example "
      ],
      "metadata": {
        "id": "QQ9KAuTaojxv"
      }
    },
    {
      "cell_type": "code",
      "source": [
        "toy_story_names = []\n",
        "movie_id = 0\n",
        "\n",
        "for i in credits['cast'][movie_id].split(\"'name': '\")[1:]:\n",
        "  toy_story_names.append(i.split(\"'\")[0])"
      ],
      "metadata": {
        "id": "OdXh5kP_l7ml"
      },
      "execution_count": null,
      "outputs": []
    },
    {
      "cell_type": "code",
      "source": [
        "toy_story_names"
      ],
      "metadata": {
        "colab": {
          "base_uri": "https://localhost:8080/"
        },
        "id": "u5XJwk26l7j9",
        "outputId": "e7a26614-b78b-4c9f-b24d-405257fa3c6c"
      },
      "execution_count": null,
      "outputs": [
        {
          "output_type": "execute_result",
          "data": {
            "text/plain": [
              "['Tom Hanks',\n",
              " 'Tim Allen',\n",
              " 'Don Rickles',\n",
              " 'Jim Varney',\n",
              " 'Wallace Shawn',\n",
              " 'John Ratzenberger',\n",
              " 'Annie Potts',\n",
              " 'John Morris',\n",
              " 'Erik von Detten',\n",
              " 'Laurie Metcalf',\n",
              " 'R. Lee Ermey',\n",
              " 'Sarah Freeman',\n",
              " 'Penn Jillette']"
            ]
          },
          "metadata": {},
          "execution_count": 35
        }
      ]
    },
    {
      "cell_type": "markdown",
      "source": [
        "## Recommendation System"
      ],
      "metadata": {
        "id": "c9E03U9eq3rS"
      }
    },
    {
      "cell_type": "code",
      "source": [
        ""
      ],
      "metadata": {
        "id": "5oA--_Nul7ha"
      },
      "execution_count": null,
      "outputs": []
    },
    {
      "cell_type": "markdown",
      "source": [
        "## Recommendation Function"
      ],
      "metadata": {
        "id": "9pVH_Tfhqx0a"
      }
    },
    {
      "cell_type": "code",
      "source": [
        "def recommend_movie(...):\n",
        "  '''\n",
        "  - takes movie name as a parameter and returns given number of similar movies\n",
        "  '''"
      ],
      "metadata": {
        "id": "rEXViKAyl7fa"
      },
      "execution_count": null,
      "outputs": []
    }
  ],
  "metadata": {
    "colab": {
      "collapsed_sections": [],
      "name": "RecSys_Homework.ipynb",
      "provenance": []
    },
    "kernelspec": {
      "display_name": "Python 3",
      "language": "python",
      "name": "python3"
    },
    "language_info": {
      "codemirror_mode": {
        "name": "ipython",
        "version": 3
      },
      "file_extension": ".py",
      "mimetype": "text/x-python",
      "name": "python",
      "nbconvert_exporter": "python",
      "pygments_lexer": "ipython3",
      "version": "3.8.5"
    }
  },
  "nbformat": 4,
  "nbformat_minor": 0
}